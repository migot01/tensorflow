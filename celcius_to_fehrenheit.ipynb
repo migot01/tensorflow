{
  "nbformat": 4,
  "nbformat_minor": 0,
  "metadata": {
    "colab": {
      "name": "celcius_to_fehrenheit.ipynb",
      "version": "0.3.2",
      "provenance": [],
      "collapsed_sections": [],
      "include_colab_link": true
    },
    "kernelspec": {
      "name": "python3",
      "display_name": "Python 3"
    }
  },
  "cells": [
    {
      "cell_type": "markdown",
      "metadata": {
        "id": "view-in-github",
        "colab_type": "text"
      },
      "source": [
        "<a href=\"https://colab.research.google.com/github/migot01/tensorflow/blob/master/celcius_to_fehrenheit.ipynb\" target=\"_parent\"><img src=\"https://colab.research.google.com/assets/colab-badge.svg\" alt=\"Open In Colab\"/></a>"
      ]
    },
    {
      "metadata": {
        "id": "s520getScgeT",
        "colab_type": "code",
        "colab": {}
      },
      "cell_type": "code",
      "source": [
        "import tensorflow as tf\n",
        "tf.logging.set_verbosity(tf.logging.ERROR)\n",
        "import numpy as np"
      ],
      "execution_count": 0,
      "outputs": []
    },
    {
      "metadata": {
        "id": "_vcO7JP2c_-V",
        "colab_type": "code",
        "colab": {}
      },
      "cell_type": "code",
      "source": [
        ""
      ],
      "execution_count": 0,
      "outputs": []
    },
    {
      "metadata": {
        "id": "TQ0MWgX0dTvv",
        "colab_type": "text"
      },
      "cell_type": "markdown",
      "source": [
        "Setting up training data"
      ]
    },
    {
      "metadata": {
        "id": "GX0uML1HdWcK",
        "colab_type": "code",
        "colab": {
          "base_uri": "https://localhost:8080/",
          "height": 136
        },
        "outputId": "fc031bcf-d267-4ccc-dc1e-9d4eebe5c8f1"
      },
      "cell_type": "code",
      "source": [
        "celcius_q = np.array([-40, -10, 0, 8, 15, 22, 38], dtype=float)\n",
        "fehrenheit_a = np.array([-40, 14, 32, 46, 59, 72, 100], dtype=float)\n",
        "\n",
        "for i, c in enumerate(celcius_q):\n",
        "  print(\"{} degree celcius = {} degrees fehrenheit\".format(c, fehrenheit_a[i]))\n"
      ],
      "execution_count": 3,
      "outputs": [
        {
          "output_type": "stream",
          "text": [
            "-40.0 degree celcius = -40.0 degrees fehrenheit\n",
            "-10.0 degree celcius = 14.0 degrees fehrenheit\n",
            "0.0 degree celcius = 32.0 degrees fehrenheit\n",
            "8.0 degree celcius = 46.0 degrees fehrenheit\n",
            "15.0 degree celcius = 59.0 degrees fehrenheit\n",
            "22.0 degree celcius = 72.0 degrees fehrenheit\n",
            "38.0 degree celcius = 100.0 degrees fehrenheit\n"
          ],
          "name": "stdout"
        }
      ]
    },
    {
      "metadata": {
        "id": "A1MuhFmueE70",
        "colab_type": "code",
        "colab": {}
      },
      "cell_type": "code",
      "source": [
        "l0 = tf.keras.layers.Dense(units=1, input_shape=[1])"
      ],
      "execution_count": 0,
      "outputs": []
    },
    {
      "metadata": {
        "id": "xXoUGg3Rmwk8",
        "colab_type": "text"
      },
      "cell_type": "markdown",
      "source": [
        "**Assemble layers into the model**"
      ]
    },
    {
      "metadata": {
        "id": "X21NrJIpm3Us",
        "colab_type": "code",
        "colab": {}
      },
      "cell_type": "code",
      "source": [
        "#models has just a single layer,l0\n",
        "model = tf.keras.Sequential([l0])"
      ],
      "execution_count": 0,
      "outputs": []
    },
    {
      "metadata": {
        "id": "waIeOjVVnpvc",
        "colab_type": "text"
      },
      "cell_type": "markdown",
      "source": [
        "**Compile the model with loss and optimizer functions**\n",
        "\n",
        "\n",
        "\n"
      ]
    },
    {
      "metadata": {
        "id": "d_ou8VI_nvxQ",
        "colab_type": "code",
        "colab": {}
      },
      "cell_type": "code",
      "source": [
        "model.compile(loss='mean_squared_error',\n",
        "             optimizer=tf.keras.optimizers.Adam(0.1))"
      ],
      "execution_count": 0,
      "outputs": []
    },
    {
      "metadata": {
        "id": "pXHs0Ys44G0E",
        "colab_type": "text"
      },
      "cell_type": "markdown",
      "source": [
        "**Train the model**"
      ]
    },
    {
      "metadata": {
        "id": "7p4LpjF74JTr",
        "colab_type": "code",
        "colab": {
          "base_uri": "https://localhost:8080/",
          "height": 34
        },
        "outputId": "36c36dc4-529f-496c-edeb-dc540ff3e8dc"
      },
      "cell_type": "code",
      "source": [
        "history = model.fit(celcius_q, fehrenheit_a, epochs=500, verbose=False)\n",
        "print(\"Finished training model\")"
      ],
      "execution_count": 10,
      "outputs": [
        {
          "output_type": "stream",
          "text": [
            "Finished training model\n"
          ],
          "name": "stdout"
        }
      ]
    },
    {
      "metadata": {
        "id": "nRrvvo9Z4tkW",
        "colab_type": "code",
        "colab": {}
      },
      "cell_type": "code",
      "source": [
        ""
      ],
      "execution_count": 0,
      "outputs": []
    },
    {
      "metadata": {
        "id": "0i6B9cVL450T",
        "colab_type": "text"
      },
      "cell_type": "markdown",
      "source": [
        "**Display training statistics**"
      ]
    },
    {
      "metadata": {
        "id": "-4q-UBs04_Kv",
        "colab_type": "code",
        "colab": {
          "base_uri": "https://localhost:8080/",
          "height": 378
        },
        "outputId": "ce18756a-6f84-4a2d-af15-4ac90688a273"
      },
      "cell_type": "code",
      "source": [
        "import matplotlib.pyplot as plt\n",
        "plt.xlabel('Epochs Number')\n",
        "plt.ylabel(\"loss magnitude\")\n",
        "plt.plot(history.history['loss'])"
      ],
      "execution_count": 12,
      "outputs": [
        {
          "output_type": "execute_result",
          "data": {
            "text/plain": [
              "[<matplotlib.lines.Line2D at 0x7f4d24724240>]"
            ]
          },
          "metadata": {
            "tags": []
          },
          "execution_count": 12
        },
        {
          "output_type": "display_data",
          "data": {
            "image/png": "[encoded data removed]",
            "text/plain": [
              "<Figure size 576x396 with 1 Axes>"
            ]
          },
          "metadata": {
            "tags": []
          }
        }
      ]
    },
    {
      "metadata": {
        "id": "uCiAHJsx52iK",
        "colab_type": "text"
      },
      "cell_type": "markdown",
      "source": [
        "**Use model to predict values**"
      ]
    },
    {
      "metadata": {
        "id": "U7dIzF8o56ET",
        "colab_type": "code",
        "colab": {
          "base_uri": "https://localhost:8080/",
          "height": 34
        },
        "outputId": "46bc2f05-6080-4614-c51d-e37cfea09843"
      },
      "cell_type": "code",
      "source": [
        "print(model.predict([100]))"
      ],
      "execution_count": 14,
      "outputs": [
        {
          "output_type": "stream",
          "text": [
            "[[211.29474]]\n"
          ],
          "name": "stdout"
        }
      ]
    },
    {
      "metadata": {
        "id": "rxp29ZXY6FdY",
        "colab_type": "code",
        "colab": {
          "base_uri": "https://localhost:8080/",
          "height": 34
        },
        "outputId": "557b1c78-667f-48a9-bad4-ae479c0d5b43"
      },
      "cell_type": "code",
      "source": [
        "print(\"These are the layer variables: {}\".format(l0.get_weights()))"
      ],
      "execution_count": 15,
      "outputs": [
        {
          "output_type": "stream",
          "text": [
            "These are the layer variables: [array([[1.8263785]], dtype=float32), array([28.656897], dtype=float32)]\n"
          ],
          "name": "stdout"
        }
      ]
    },
    {
      "metadata": {
        "id": "Wehrp21Z6i-5",
        "colab_type": "code",
        "colab": {}
      },
      "cell_type": "code",
      "source": [
        ""
      ],
      "execution_count": 0,
      "outputs": []
    }
  ]
}